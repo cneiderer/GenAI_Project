{
 "cells": [
  {
   "cell_type": "markdown",
   "id": "421a1bbc-0276-43cc-ae19-78d5e11079ce",
   "metadata": {},
   "source": [
    "# Evaluation Usage Example"
   ]
  },
  {
   "cell_type": "code",
   "execution_count": 1,
   "id": "73f265f2-0d47-4767-a530-8c77611adc11",
   "metadata": {},
   "outputs": [],
   "source": [
    "%load_ext autoreload\n",
    "%autoreload 2"
   ]
  },
  {
   "cell_type": "code",
   "execution_count": 2,
   "id": "f626dd09-8c10-40ee-9249-e2b0e84b9b58",
   "metadata": {},
   "outputs": [],
   "source": [
    "from vtt.evaluation.evaluate import evaluate_captions"
   ]
  },
  {
   "cell_type": "code",
   "execution_count": 3,
   "id": "d0b62e76-5579-4843-ab85-237bb0368c56",
   "metadata": {},
   "outputs": [
    {
     "name": "stderr",
     "output_type": "stream",
     "text": [
      "/home/curtis/anaconda3/envs/northeastern/lib/python3.10/site-packages/huggingface_hub/file_download.py:943: FutureWarning: `resume_download` is deprecated and will be removed in version 1.0.0. Downloads always resume when possible. If you want to force a new download, use `force_download=True`.\n",
      "  warnings.warn(\n",
      "Some weights of RobertaModel were not initialized from the model checkpoint at roberta-large and are newly initialized: ['roberta.pooler.dense.bias', 'roberta.pooler.dense.weight']\n",
      "You should probably TRAIN this model on a down-stream task to be able to use it for predictions and inference.\n"
     ]
    },
    {
     "name": "stdout",
     "output_type": "stream",
     "text": [
      "BLEU-1: 0.7857\n",
      "BLEU-2: 0.7182\n",
      "BLEU-3: 0.5169\n",
      "BLEU-4: 0.4293\n",
      "METEOR: 0.7936\n",
      "BERTScore_P: 0.9723\n",
      "BERTScore_R: 0.9735\n",
      "BERTScore_F1: 0.9729\n"
     ]
    }
   ],
   "source": [
    "ground_truths = {\n",
    "    \"image1.jpg\": [\"a man riding a bike\", \"a person on a bicycle in motion\"],\n",
    "    \"image2.jpg\": [\"a cat sitting on a couch\", \"a feline on furniture\"],\n",
    "}\n",
    "\n",
    "generated = {\n",
    "    \"image1.jpg\": \"a man riding a bicycle\",\n",
    "    \"image2.jpg\": \"a cat is lying on a sofa\",\n",
    "}\n",
    "\n",
    "scores = evaluate_captions(ground_truths, generated)\n",
    "for metric, value in scores.items():\n",
    "    print(f\"{metric}: {value:.4f}\")"
   ]
  },
  {
   "cell_type": "code",
   "execution_count": null,
   "id": "da6ea4f0-8616-4508-a986-9a39015300ee",
   "metadata": {},
   "outputs": [],
   "source": []
  }
 ],
 "metadata": {
  "kernelspec": {
   "display_name": "northeastern",
   "language": "python",
   "name": "northeastern"
  },
  "language_info": {
   "codemirror_mode": {
    "name": "ipython",
    "version": 3
   },
   "file_extension": ".py",
   "mimetype": "text/x-python",
   "name": "python",
   "nbconvert_exporter": "python",
   "pygments_lexer": "ipython3",
   "version": "3.10.18"
  }
 },
 "nbformat": 4,
 "nbformat_minor": 5
}
