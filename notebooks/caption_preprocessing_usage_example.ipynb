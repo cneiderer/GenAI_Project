{
 "cells": [
  {
   "cell_type": "markdown",
   "id": "f207914f-b33f-4acd-9f02-e1533d2399a9",
   "metadata": {},
   "source": [
    "# Caption Preprocessing Usage Example"
   ]
  },
  {
   "cell_type": "code",
   "execution_count": 1,
   "id": "6cb30615-2b44-4d38-987f-696aafff05f9",
   "metadata": {},
   "outputs": [],
   "source": [
    "%load_ext autoreload\n",
    "%autoreload 2"
   ]
  },
  {
   "cell_type": "code",
   "execution_count": 2,
   "id": "251348a8-c7ba-4a76-84e4-bc1f862035c6",
   "metadata": {},
   "outputs": [
    {
     "name": "stderr",
     "output_type": "stream",
     "text": [
      "2025-07-14 19:44:15.687263: I tensorflow/core/util/port.cc:153] oneDNN custom operations are on. You may see slightly different numerical results due to floating-point round-off errors from different computation orders. To turn them off, set the environment variable `TF_ENABLE_ONEDNN_OPTS=0`.\n",
      "2025-07-14 19:44:15.696831: E external/local_xla/xla/stream_executor/cuda/cuda_fft.cc:467] Unable to register cuFFT factory: Attempting to register factory for plugin cuFFT when one has already been registered\n",
      "WARNING: All log messages before absl::InitializeLog() is called are written to STDERR\n",
      "E0000 00:00:1752536655.710890  129159 cuda_dnn.cc:8579] Unable to register cuDNN factory: Attempting to register factory for plugin cuDNN when one has already been registered\n",
      "E0000 00:00:1752536655.714321  129159 cuda_blas.cc:1407] Unable to register cuBLAS factory: Attempting to register factory for plugin cuBLAS when one has already been registered\n",
      "W0000 00:00:1752536655.722246  129159 computation_placer.cc:177] computation placer already registered. Please check linkage and avoid linking the same target more than once.\n",
      "W0000 00:00:1752536655.722275  129159 computation_placer.cc:177] computation placer already registered. Please check linkage and avoid linking the same target more than once.\n",
      "W0000 00:00:1752536655.722277  129159 computation_placer.cc:177] computation placer already registered. Please check linkage and avoid linking the same target more than once.\n",
      "W0000 00:00:1752536655.722277  129159 computation_placer.cc:177] computation placer already registered. Please check linkage and avoid linking the same target more than once.\n",
      "2025-07-14 19:44:15.724773: I tensorflow/core/platform/cpu_feature_guard.cc:210] This TensorFlow binary is optimized to use available CPU instructions in performance-critical operations.\n",
      "To enable the following instructions: AVX2 AVX_VNNI FMA, in other operations, rebuild TensorFlow with the appropriate compiler flags.\n"
     ]
    }
   ],
   "source": [
    "from vtt.data.caption_preprocessing import *"
   ]
  },
  {
   "cell_type": "code",
   "execution_count": 3,
   "id": "c805c38c-9376-4206-8f5e-a53c0aeb5157",
   "metadata": {},
   "outputs": [
    {
     "name": "stdout",
     "output_type": "stream",
     "text": [
      "[INFO] File already exists and overwrite=False: ../data/processed/flickr30k_padded_caption_sequences.npz\n",
      "[INFO] File already exists and overwrite=False: ../data/processed/flickr30k_tokenizer.json\n"
     ]
    }
   ],
   "source": [
    "# Define dataset name\n",
    "# dataset_name = \"flickr8k\"\n",
    "dataset_name = \"flickr30k\"\n",
    "\n",
    "# Step 1: Load and clean raw captions\n",
    "captions_path = f\"../data/raw/{dataset_name}_captions.csv\"\n",
    "captions_dict = load_and_clean_captions(captions_path)\n",
    "\n",
    "# Step 2: Filter out rare words and build vocabulary\n",
    "filtered_captions, vocab = filter_captions_by_frequency(captions_dict, min_word_freq=5)\n",
    "\n",
    "# Step 3: Fit tokenizer on filtered captions\n",
    "tokenizer = fit_tokenizer(filtered_captions, num_words=10000)\n",
    "\n",
    "# Step 4: Convert cleaned captions to sequences of token IDs\n",
    "seqs = captions_to_sequences(filtered_captions, tokenizer)\n",
    "\n",
    "# Step 5: Compute max length for padding using 95th percentile\n",
    "max_length = compute_max_caption_length(seqs, quantile=0.95)\n",
    "\n",
    "# Step 6: Pad all sequences to uniform length\n",
    "padded_seqs = pad_caption_sequences(seqs, max_length=max_length)\n",
    "\n",
    "# Step 7: Save processed data and tokenizer\n",
    "save_padded_sequences(\n",
    "    padded_seqs, f\"../data/processed/{dataset_name}_padded_caption_sequences.npz\"\n",
    ")\n",
    "# save_tokenizer(tokenizer, f\"../data/processed/{dataset_name}_tokenizer.pkl\")\n",
    "save_tokenizer(tokenizer, f\"../data/processed/{dataset_name}_tokenizer.json\")"
   ]
  },
  {
   "cell_type": "code",
   "execution_count": 4,
   "id": "fe3b5b6b-215a-44b1-b140-1164d9faf8e8",
   "metadata": {},
   "outputs": [
    {
     "name": "stdout",
     "output_type": "stream",
     "text": [
      "[INFO] Tokenizer loaded from JSON file: ../data/processed/flickr30k_tokenizer.json\n",
      "Caption 0: [3, 14, 22, 310, 12, 2182, 116, 195, 19, 63, 165, 27, 325, 73, 5, 6, 471, 4, 0, 0, 0, 0]\n",
      "Caption 1: [3, 14, 22, 4, 0, 0, 0, 0, 0, 0, 0, 0, 0, 0, 0, 0, 0, 0, 0, 0, 0, 0]\n",
      "Caption 2: [3, 14, 30, 5, 51, 262, 16, 35, 5, 2, 471, 4, 0, 0, 0, 0, 0, 0, 0, 0, 0, 0]\n",
      "Caption 3: [3, 2, 8, 5, 2, 28, 23, 35, 5, 2, 686, 4, 0, 0, 0, 0, 0, 0, 0, 0, 0, 0]\n",
      "Caption 4: [3, 14, 457, 786, 586, 15, 134, 4, 0, 0, 0, 0, 0, 0, 0, 0, 0, 0, 0, 0, 0, 0]\n"
     ]
    }
   ],
   "source": [
    "# Load the saved data and inpsect a few examples\n",
    "loaded_sequences = load_padded_sequences(\n",
    "    f\"../data/processed/{dataset_name}_padded_caption_sequences.npz\"\n",
    ")\n",
    "# tokenizer_loaded = load_tokenizer(f\"../data/processed/{dataset_name}_tokenizer.pkl\")\n",
    "tokenizer_loaded = load_tokenizer(f\"../data/processed/{dataset_name}_tokenizer.json\")\n",
    "\n",
    "# Inspect the five captions associated with the reference image\n",
    "image_id = \"1000092795.jpg\"  # example image ID\n",
    "for i, sequence in enumerate(loaded_sequences.get(image_id, [])[:5]):\n",
    "    print(f\"Caption {i}:\", sequence)"
   ]
  },
  {
   "cell_type": "code",
   "execution_count": null,
   "id": "ce1c36ce-b97c-4775-989a-2f4587cdd8c9",
   "metadata": {},
   "outputs": [],
   "source": []
  }
 ],
 "metadata": {
  "kernelspec": {
   "display_name": "northeastern",
   "language": "python",
   "name": "northeastern"
  },
  "language_info": {
   "codemirror_mode": {
    "name": "ipython",
    "version": 3
   },
   "file_extension": ".py",
   "mimetype": "text/x-python",
   "name": "python",
   "nbconvert_exporter": "python",
   "pygments_lexer": "ipython3",
   "version": "3.10.18"
  }
 },
 "nbformat": 4,
 "nbformat_minor": 5
}
