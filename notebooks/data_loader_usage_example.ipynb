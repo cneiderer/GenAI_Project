{
 "cells": [
  {
   "cell_type": "markdown",
   "id": "5d7e1fc1-daf3-44d4-b267-c9f7ddb27c68",
   "metadata": {},
   "source": [
    "# Data Loader Usage Example"
   ]
  },
  {
   "cell_type": "code",
   "execution_count": 1,
   "id": "acd5a53d-bcaf-470d-a1d2-4986c5779ca6",
   "metadata": {},
   "outputs": [],
   "source": [
    "%load_ext autoreload\n",
    "%autoreload 2"
   ]
  },
  {
   "cell_type": "code",
   "execution_count": 2,
   "id": "21c92b7b-3f0e-405e-914e-2ae9ab3a7a6d",
   "metadata": {},
   "outputs": [
    {
     "name": "stderr",
     "output_type": "stream",
     "text": [
      "2025-07-15 12:46:46.814881: I tensorflow/core/util/port.cc:153] oneDNN custom operations are on. You may see slightly different numerical results due to floating-point round-off errors from different computation orders. To turn them off, set the environment variable `TF_ENABLE_ONEDNN_OPTS=0`.\n",
      "2025-07-15 12:46:46.826165: E external/local_xla/xla/stream_executor/cuda/cuda_fft.cc:467] Unable to register cuFFT factory: Attempting to register factory for plugin cuFFT when one has already been registered\n",
      "WARNING: All log messages before absl::InitializeLog() is called are written to STDERR\n",
      "E0000 00:00:1752598006.838653  218121 cuda_dnn.cc:8579] Unable to register cuDNN factory: Attempting to register factory for plugin cuDNN when one has already been registered\n",
      "E0000 00:00:1752598006.841955  218121 cuda_blas.cc:1407] Unable to register cuBLAS factory: Attempting to register factory for plugin cuBLAS when one has already been registered\n",
      "W0000 00:00:1752598006.851857  218121 computation_placer.cc:177] computation placer already registered. Please check linkage and avoid linking the same target more than once.\n",
      "W0000 00:00:1752598006.851879  218121 computation_placer.cc:177] computation placer already registered. Please check linkage and avoid linking the same target more than once.\n",
      "W0000 00:00:1752598006.851880  218121 computation_placer.cc:177] computation placer already registered. Please check linkage and avoid linking the same target more than once.\n",
      "W0000 00:00:1752598006.851882  218121 computation_placer.cc:177] computation placer already registered. Please check linkage and avoid linking the same target more than once.\n",
      "2025-07-15 12:46:46.860603: I tensorflow/core/platform/cpu_feature_guard.cc:210] This TensorFlow binary is optimized to use available CPU instructions in performance-critical operations.\n",
      "To enable the following instructions: AVX2 AVX_VNNI FMA, in other operations, rebuild TensorFlow with the appropriate compiler flags.\n"
     ]
    }
   ],
   "source": [
    "import tensorflow as tf\n",
    "from vtt.data.data_loader import load_training_dataset"
   ]
  },
  {
   "cell_type": "code",
   "execution_count": 3,
   "id": "c1b21979-274e-4c68-9498-a9bc2bb35875",
   "metadata": {},
   "outputs": [
    {
     "name": "stderr",
     "output_type": "stream",
     "text": [
      "2025-07-15 12:47:23.010298: E external/local_xla/xla/stream_executor/cuda/cuda_platform.cc:51] failed call to cuInit: INTERNAL: CUDA error: Failed call to cuInit: UNKNOWN ERROR (303)\n"
     ]
    },
    {
     "name": "stdout",
     "output_type": "stream",
     "text": [
      "Image feature shape: (64, 2048)\n",
      "Input caption shape: (64, 18)\n",
      "Target caption shape: (64, 18)\n"
     ]
    }
   ],
   "source": [
    "# Paths to your preprocessed feature and caption sequence files\n",
    "features_path = \"../data/processed/flickr8k_features.npz\"\n",
    "captions_path = \"../data/processed/flickr8k_padded_caption_sequences.npz\"\n",
    "\n",
    "# Load training dataset\n",
    "training_dataset = load_training_dataset(\n",
    "    features_path=features_path,\n",
    "    captions_path=captions_path,\n",
    "    batch_size=64,\n",
    "    shuffle=True,\n",
    ")\n",
    "\n",
    "# Iterate through a few batches to inspect the structure\n",
    "for (img_feats, input_seq), target_seq in training_dataset.take(1):\n",
    "    print(\"Image feature shape:\", img_feats.shape)  # (batch_size, 2048)\n",
    "    print(\"Input caption shape:\", input_seq.shape)  # (batch_size, seq_len - 1)\n",
    "    print(\"Target caption shape:\", target_seq.shape)  # (batch_size, seq_len - 1)\n",
    "    break"
   ]
  },
  {
   "cell_type": "code",
   "execution_count": null,
   "id": "2c62310e-5d8d-4a85-9eed-10f2d93a11e0",
   "metadata": {},
   "outputs": [],
   "source": []
  }
 ],
 "metadata": {
  "kernelspec": {
   "display_name": "northeastern",
   "language": "python",
   "name": "northeastern"
  },
  "language_info": {
   "codemirror_mode": {
    "name": "ipython",
    "version": 3
   },
   "file_extension": ".py",
   "mimetype": "text/x-python",
   "name": "python",
   "nbconvert_exporter": "python",
   "pygments_lexer": "ipython3",
   "version": "3.10.18"
  }
 },
 "nbformat": 4,
 "nbformat_minor": 5
}
