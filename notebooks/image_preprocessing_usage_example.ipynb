{
 "cells": [
  {
   "cell_type": "markdown",
   "id": "7816d884-81ba-45d8-a2f4-e6b932268294",
   "metadata": {},
   "source": [
    "# Image Preprocessing Usage Example"
   ]
  },
  {
   "cell_type": "code",
   "execution_count": 1,
   "id": "b011588f-464f-4ab0-b62b-a081967921ff",
   "metadata": {},
   "outputs": [],
   "source": [
    "%load_ext autoreload\n",
    "%autoreload 2"
   ]
  },
  {
   "cell_type": "markdown",
   "id": "1043e37f-8aef-4e62-82ae-7e4ec0007b0a",
   "metadata": {},
   "source": [
    "## Approach 1: Extract All Images at Once (Non-Batch Approach)\n",
    "__When to Use:__\n",
    "* For small to medium datasets that can be processed in one pass.\n",
    "* Simple use case with no need for progress saving in between."
   ]
  },
  {
   "cell_type": "code",
   "execution_count": 2,
   "id": "d6e0f14c-8ded-4ff3-9b61-5bcf4505eaca",
   "metadata": {},
   "outputs": [
    {
     "name": "stderr",
     "output_type": "stream",
     "text": [
      "2025-07-14 18:26:52.867105: I tensorflow/core/util/port.cc:153] oneDNN custom operations are on. You may see slightly different numerical results due to floating-point round-off errors from different computation orders. To turn them off, set the environment variable `TF_ENABLE_ONEDNN_OPTS=0`.\n",
      "2025-07-14 18:26:52.878990: E external/local_xla/xla/stream_executor/cuda/cuda_fft.cc:467] Unable to register cuFFT factory: Attempting to register factory for plugin cuFFT when one has already been registered\n",
      "WARNING: All log messages before absl::InitializeLog() is called are written to STDERR\n",
      "E0000 00:00:1752532012.890544  107326 cuda_dnn.cc:8579] Unable to register cuDNN factory: Attempting to register factory for plugin cuDNN when one has already been registered\n",
      "E0000 00:00:1752532012.893538  107326 cuda_blas.cc:1407] Unable to register cuBLAS factory: Attempting to register factory for plugin cuBLAS when one has already been registered\n",
      "W0000 00:00:1752532012.901997  107326 computation_placer.cc:177] computation placer already registered. Please check linkage and avoid linking the same target more than once.\n",
      "W0000 00:00:1752532012.902018  107326 computation_placer.cc:177] computation placer already registered. Please check linkage and avoid linking the same target more than once.\n",
      "W0000 00:00:1752532012.902020  107326 computation_placer.cc:177] computation placer already registered. Please check linkage and avoid linking the same target more than once.\n",
      "W0000 00:00:1752532012.902021  107326 computation_placer.cc:177] computation placer already registered. Please check linkage and avoid linking the same target more than once.\n",
      "2025-07-14 18:26:52.905805: I tensorflow/core/platform/cpu_feature_guard.cc:210] This TensorFlow binary is optimized to use available CPU instructions in performance-critical operations.\n",
      "To enable the following instructions: AVX2 AVX_VNNI FMA, in other operations, rebuild TensorFlow with the appropriate compiler flags.\n"
     ]
    }
   ],
   "source": [
    "from vtt.data.image_preprocessing import (\n",
    "    extract_features_from_directory,\n",
    "    save_features,\n",
    "    load_features,\n",
    ")"
   ]
  },
  {
   "cell_type": "code",
   "execution_count": 3,
   "id": "3f90b230-8537-4d76-885d-74214b320049",
   "metadata": {},
   "outputs": [
    {
     "name": "stdout",
     "output_type": "stream",
     "text": [
      "[INFO] Found 100 image(s) in '../../data/flickr8k_images/subset/'.\n"
     ]
    },
    {
     "name": "stderr",
     "output_type": "stream",
     "text": [
      "2025-07-14 18:26:55.089337: E external/local_xla/xla/stream_executor/cuda/cuda_platform.cc:51] failed call to cuInit: INTERNAL: CUDA error: Failed call to cuInit: UNKNOWN ERROR (303)\n",
      "Extracting image features: 100%|██████████████████████████████████████████████████████| 100/100 [00:15<00:00,  6.67it/s]\n"
     ]
    }
   ],
   "source": [
    "# Path to the image directory\n",
    "image_dir = \"../../data/flickr8k_images/subset/\"  # Subset of 100 images\n",
    "\n",
    "# Path to the output file\n",
    "output_file = \"../../data/processed/flickr8k_features_nonbatch.npz\"\n",
    "\n",
    "# Extract features for all images in the directory\n",
    "features = extract_features_from_directory(image_dir)\n",
    "\n",
    "# Save the full dictionary of features to disk\n",
    "save_features(features, output_file)"
   ]
  },
  {
   "cell_type": "code",
   "execution_count": 4,
   "id": "9cab365d-e015-490b-a3f3-74192214f12d",
   "metadata": {},
   "outputs": [
    {
     "name": "stdout",
     "output_type": "stream",
     "text": [
      "Total images in feature file: 100\n",
      "\n",
      "Previewing first 5 image feature entries:\n",
      "\n",
      "1. 101654506_8eb26cfb60.jpg -> shape: (2048,)\n",
      "[0.0473685  0.         0.34836045 0.         1.9708986 ] ...\n",
      "\n",
      "2. 101669240_b2d3e7f17b.jpg -> shape: (2048,)\n",
      "[0.00277199 0.01376122 0.00498268 0.05396137 0.19276744] ...\n",
      "\n",
      "3. 102351840_323e3de834.jpg -> shape: (2048,)\n",
      "[0.00125399 0.03713456 0.07491528 0.05316498 0.70476127] ...\n",
      "\n",
      "4. 102455176_5f8ead62d5.jpg -> shape: (2048,)\n",
      "[0.13471708 0.24836668 0.27189383 0.04021228 0.9100197 ] ...\n",
      "\n",
      "5. 103106960_e8a41d64f8.jpg -> shape: (2048,)\n",
      "[0.00936221 0.10794617 0.33646026 0.24238296 0.4932172 ] ...\n",
      "\n"
     ]
    }
   ],
   "source": [
    "# Load the feature dictionary\n",
    "features = load_features(output_file)\n",
    "\n",
    "# Print the number of entries and preview the first 5\n",
    "print(f\"Total images in feature file: {len(features)}\\n\")\n",
    "\n",
    "print(\"Previewing first 5 image feature entries:\\n\")\n",
    "for i, (img_name, feature_vector) in enumerate(features.items()):\n",
    "    print(f\"{i+1}. {img_name} -> shape: {feature_vector.shape}\")\n",
    "    print(feature_vector[:5], \"...\")  # Show first 5 elements for brevity\n",
    "    print()\n",
    "    if i == 4:\n",
    "        break"
   ]
  },
  {
   "cell_type": "markdown",
   "id": "6dcfc7f1-557a-4075-95e7-e994c462369d",
   "metadata": {},
   "source": [
    "## Approach 2: Extract Features in Batches (Batch Approach)\n",
    "__When to use:__\n",
    "* For large datasets that could exceed memory limits.\n",
    "* If you want to recover progress after a crash or resume later."
   ]
  },
  {
   "cell_type": "code",
   "execution_count": 5,
   "id": "7bced7f5-ae55-48d1-aa11-28a88ca85243",
   "metadata": {},
   "outputs": [],
   "source": [
    "from vtt.data.image_preprocessing import (\n",
    "    extract_features_in_batches,\n",
    "    combine_feature_batches,\n",
    "    save_features,\n",
    "    load_features,\n",
    ")"
   ]
  },
  {
   "cell_type": "code",
   "execution_count": 6,
   "id": "b924de97-330d-4217-a02d-58dfa164c39d",
   "metadata": {},
   "outputs": [
    {
     "name": "stderr",
     "output_type": "stream",
     "text": [
      "Processing batches:   0%|                                                                         | 0/4 [00:00<?, ?it/s]"
     ]
    },
    {
     "name": "stdout",
     "output_type": "stream",
     "text": [
      "[INFO] Processing batch 1 of 4 (30 images)\n"
     ]
    },
    {
     "name": "stderr",
     "output_type": "stream",
     "text": [
      "\n",
      "Extracting image features:   0%|                                                                 | 0/30 [00:00<?, ?it/s]\u001b[A\n",
      "Extracting image features:   3%|█▉                                                       | 1/30 [00:00<00:28,  1.03it/s]\u001b[A\n",
      "Extracting image features:   7%|███▊                                                     | 2/30 [00:01<00:13,  2.02it/s]\u001b[A\n",
      "Extracting image features:  10%|█████▋                                                   | 3/30 [00:01<00:09,  2.92it/s]\u001b[A\n",
      "Extracting image features:  13%|███████▌                                                 | 4/30 [00:01<00:07,  3.56it/s]\u001b[A\n",
      "Extracting image features:  17%|█████████▌                                               | 5/30 [00:01<00:06,  4.15it/s]\u001b[A\n",
      "Extracting image features:  20%|███████████▍                                             | 6/30 [00:01<00:05,  4.60it/s]\u001b[A\n",
      "Extracting image features:  23%|█████████████▎                                           | 7/30 [00:01<00:04,  4.98it/s]\u001b[A\n",
      "Extracting image features:  27%|███████████████▏                                         | 8/30 [00:02<00:04,  5.25it/s]\u001b[A\n",
      "Extracting image features:  30%|█████████████████                                        | 9/30 [00:02<00:03,  5.54it/s]\u001b[A\n",
      "Extracting image features:  33%|██████████████████▋                                     | 10/30 [00:02<00:03,  5.44it/s]\u001b[A\n",
      "Extracting image features:  37%|████████████████████▌                                   | 11/30 [00:02<00:03,  5.52it/s]\u001b[A\n",
      "Extracting image features:  40%|██████████████████████▍                                 | 12/30 [00:02<00:03,  5.67it/s]\u001b[A\n",
      "Extracting image features:  43%|████████████████████████▎                               | 13/30 [00:03<00:02,  5.86it/s]\u001b[A\n",
      "Extracting image features:  47%|██████████████████████████▏                             | 14/30 [00:03<00:02,  6.08it/s]\u001b[A\n",
      "Extracting image features:  50%|████████████████████████████                            | 15/30 [00:03<00:02,  5.93it/s]\u001b[A\n",
      "Extracting image features:  53%|█████████████████████████████▊                          | 16/30 [00:03<00:02,  5.65it/s]\u001b[A\n",
      "Extracting image features:  57%|███████████████████████████████▋                        | 17/30 [00:03<00:02,  5.60it/s]\u001b[A\n",
      "Extracting image features:  60%|█████████████████████████████████▌                      | 18/30 [00:03<00:02,  5.59it/s]\u001b[A\n",
      "Extracting image features:  63%|███████████████████████████████████▍                    | 19/30 [00:04<00:02,  5.50it/s]\u001b[A\n",
      "Extracting image features:  67%|█████████████████████████████████████▎                  | 20/30 [00:04<00:01,  5.64it/s]\u001b[A\n",
      "Extracting image features:  70%|███████████████████████████████████████▏                | 21/30 [00:04<00:01,  5.67it/s]\u001b[A\n",
      "Extracting image features:  73%|█████████████████████████████████████████               | 22/30 [00:04<00:01,  5.59it/s]\u001b[A\n",
      "Extracting image features:  77%|██████████████████████████████████████████▉             | 23/30 [00:04<00:01,  5.68it/s]\u001b[A\n",
      "Extracting image features:  80%|████████████████████████████████████████████▊           | 24/30 [00:04<00:01,  5.83it/s]\u001b[A\n",
      "Extracting image features:  83%|██████████████████████████████████████████████▋         | 25/30 [00:05<00:00,  5.84it/s]\u001b[A\n",
      "Extracting image features:  87%|████████████████████████████████████████████████▌       | 26/30 [00:05<00:00,  6.05it/s]\u001b[A\n",
      "Extracting image features:  90%|██████████████████████████████████████████████████▍     | 27/30 [00:05<00:00,  6.02it/s]\u001b[A\n",
      "Extracting image features:  93%|████████████████████████████████████████████████████▎   | 28/30 [00:05<00:00,  6.09it/s]\u001b[A\n",
      "Extracting image features:  97%|██████████████████████████████████████████████████████▏ | 29/30 [00:05<00:00,  6.11it/s]\u001b[A\n",
      "Extracting image features: 100%|████████████████████████████████████████████████████████| 30/30 [00:05<00:00,  5.08it/s]\u001b[A\n",
      "Processing batches:  25%|████████████████▎                                                | 1/4 [00:06<00:20,  6.92s/it]"
     ]
    },
    {
     "name": "stdout",
     "output_type": "stream",
     "text": [
      "[INFO] Saved batch to: ../../data/processed/batches/features_batch_000.npz\n",
      "[INFO] Processing batch 2 of 4 (30 images)\n"
     ]
    },
    {
     "name": "stderr",
     "output_type": "stream",
     "text": [
      "\n",
      "Extracting image features:   0%|                                                                 | 0/30 [00:00<?, ?it/s]\u001b[A\n",
      "Extracting image features:   3%|█▉                                                       | 1/30 [00:01<00:35,  1.21s/it]\u001b[A\n",
      "Extracting image features:   7%|███▊                                                     | 2/30 [00:02<00:35,  1.26s/it]\u001b[A\n",
      "Extracting image features:  10%|█████▋                                                   | 3/30 [00:02<00:21,  1.27it/s]\u001b[A\n",
      "Extracting image features:  13%|███████▌                                                 | 4/30 [00:02<00:14,  1.80it/s]\u001b[A\n",
      "Extracting image features:  17%|█████████▌                                               | 5/30 [00:03<00:10,  2.41it/s]\u001b[A\n",
      "Extracting image features:  20%|███████████▍                                             | 6/30 [00:03<00:07,  3.00it/s]\u001b[A\n",
      "Extracting image features:  23%|█████████████▎                                           | 7/30 [00:03<00:06,  3.54it/s]\u001b[A\n",
      "Extracting image features:  27%|███████████████▏                                         | 8/30 [00:03<00:05,  4.11it/s]\u001b[A\n",
      "Extracting image features:  30%|█████████████████                                        | 9/30 [00:03<00:04,  4.66it/s]\u001b[A\n",
      "Extracting image features:  33%|██████████████████▋                                     | 10/30 [00:03<00:04,  5.00it/s]\u001b[A\n",
      "Extracting image features:  37%|████████████████████▌                                   | 11/30 [00:04<00:03,  5.35it/s]\u001b[A\n",
      "Extracting image features:  40%|██████████████████████▍                                 | 12/30 [00:04<00:03,  5.44it/s]\u001b[A\n",
      "Extracting image features:  43%|████████████████████████▎                               | 13/30 [00:04<00:03,  5.63it/s]\u001b[A\n",
      "Extracting image features:  47%|██████████████████████████▏                             | 14/30 [00:04<00:02,  5.70it/s]\u001b[A\n",
      "Extracting image features:  50%|████████████████████████████                            | 15/30 [00:04<00:02,  5.75it/s]\u001b[A\n",
      "Extracting image features:  53%|█████████████████████████████▊                          | 16/30 [00:04<00:02,  5.78it/s]\u001b[A\n",
      "Extracting image features:  57%|███████████████████████████████▋                        | 17/30 [00:05<00:02,  5.74it/s]\u001b[A\n",
      "Extracting image features:  60%|█████████████████████████████████▌                      | 18/30 [00:05<00:02,  5.75it/s]\u001b[A\n",
      "Extracting image features:  63%|███████████████████████████████████▍                    | 19/30 [00:05<00:01,  5.71it/s]\u001b[A\n",
      "Extracting image features:  67%|█████████████████████████████████████▎                  | 20/30 [00:05<00:01,  6.12it/s]\u001b[A\n",
      "Extracting image features:  70%|███████████████████████████████████████▏                | 21/30 [00:05<00:01,  6.08it/s]\u001b[A\n",
      "Extracting image features:  73%|█████████████████████████████████████████               | 22/30 [00:05<00:01,  6.11it/s]\u001b[A\n",
      "Extracting image features:  77%|██████████████████████████████████████████▉             | 23/30 [00:06<00:01,  6.23it/s]\u001b[A\n",
      "Extracting image features:  80%|████████████████████████████████████████████▊           | 24/30 [00:06<00:00,  6.21it/s]\u001b[A\n",
      "Extracting image features:  83%|██████████████████████████████████████████████▋         | 25/30 [00:06<00:00,  6.02it/s]\u001b[A\n",
      "Extracting image features:  87%|████████████████████████████████████████████████▌       | 26/30 [00:06<00:00,  6.04it/s]\u001b[A\n",
      "Extracting image features:  90%|██████████████████████████████████████████████████▍     | 27/30 [00:06<00:00,  5.86it/s]\u001b[A\n",
      "Extracting image features:  93%|████████████████████████████████████████████████████▎   | 28/30 [00:06<00:00,  5.85it/s]\u001b[A\n",
      "Extracting image features:  97%|██████████████████████████████████████████████████████▏ | 29/30 [00:07<00:00,  5.68it/s]\u001b[A\n",
      "Extracting image features: 100%|████████████████████████████████████████████████████████| 30/30 [00:07<00:00,  4.10it/s]\u001b[A\n",
      "Processing batches:  50%|████████████████████████████████▌                                | 2/4 [00:15<00:15,  7.68s/it]"
     ]
    },
    {
     "name": "stdout",
     "output_type": "stream",
     "text": [
      "[INFO] Saved batch to: ../../data/processed/batches/features_batch_001.npz\n",
      "[INFO] Processing batch 3 of 4 (30 images)\n"
     ]
    },
    {
     "name": "stderr",
     "output_type": "stream",
     "text": [
      "\n",
      "Extracting image features:   0%|                                                                 | 0/30 [00:00<?, ?it/s]\u001b[A\n",
      "Extracting image features:   3%|█▉                                                       | 1/30 [00:01<00:31,  1.07s/it]\u001b[A\n",
      "Extracting image features:   7%|███▊                                                     | 2/30 [00:01<00:15,  1.86it/s]\u001b[A\n",
      "Extracting image features:  10%|█████▋                                                   | 3/30 [00:01<00:10,  2.66it/s]\u001b[A\n",
      "Extracting image features:  13%|███████▌                                                 | 4/30 [00:01<00:07,  3.43it/s]\u001b[A\n",
      "Extracting image features:  17%|█████████▌                                               | 5/30 [00:01<00:07,  3.28it/s]\u001b[A\n",
      "Extracting image features:  20%|███████████▍                                             | 6/30 [00:02<00:07,  3.14it/s]\u001b[A\n",
      "Extracting image features:  23%|█████████████▎                                           | 7/30 [00:02<00:06,  3.58it/s]\u001b[A\n",
      "Extracting image features:  27%|███████████████▏                                         | 8/30 [00:02<00:05,  4.11it/s]\u001b[A\n",
      "Extracting image features:  30%|█████████████████                                        | 9/30 [00:02<00:04,  4.52it/s]\u001b[A\n",
      "Extracting image features:  33%|██████████████████▋                                     | 10/30 [00:02<00:04,  4.84it/s]\u001b[A\n",
      "Extracting image features:  37%|████████████████████▌                                   | 11/30 [00:03<00:03,  4.78it/s]\u001b[A\n",
      "Extracting image features:  40%|██████████████████████▍                                 | 12/30 [00:03<00:03,  5.05it/s]\u001b[A\n",
      "Extracting image features:  43%|████████████████████████▎                               | 13/30 [00:03<00:03,  5.12it/s]\u001b[A\n",
      "Extracting image features:  47%|██████████████████████████▏                             | 14/30 [00:03<00:02,  5.43it/s]\u001b[A\n",
      "Extracting image features:  50%|████████████████████████████                            | 15/30 [00:03<00:02,  5.13it/s]\u001b[A\n",
      "Extracting image features:  53%|█████████████████████████████▊                          | 16/30 [00:04<00:02,  5.16it/s]\u001b[A\n",
      "Extracting image features:  57%|███████████████████████████████▋                        | 17/30 [00:04<00:02,  5.37it/s]\u001b[A\n",
      "Extracting image features:  60%|█████████████████████████████████▌                      | 18/30 [00:04<00:02,  5.51it/s]\u001b[A\n",
      "Extracting image features:  63%|███████████████████████████████████▍                    | 19/30 [00:04<00:01,  5.70it/s]\u001b[A\n",
      "Extracting image features:  67%|█████████████████████████████████████▎                  | 20/30 [00:04<00:01,  5.82it/s]\u001b[A\n",
      "Extracting image features:  70%|███████████████████████████████████████▏                | 21/30 [00:04<00:01,  5.94it/s]\u001b[A\n",
      "Extracting image features:  73%|█████████████████████████████████████████               | 22/30 [00:05<00:01,  5.75it/s]\u001b[A\n",
      "Extracting image features:  77%|██████████████████████████████████████████▉             | 23/30 [00:05<00:01,  5.73it/s]\u001b[A\n",
      "Extracting image features:  80%|████████████████████████████████████████████▊           | 24/30 [00:05<00:01,  5.51it/s]\u001b[A\n",
      "Extracting image features:  83%|██████████████████████████████████████████████▋         | 25/30 [00:05<00:00,  5.71it/s]\u001b[A\n",
      "Extracting image features:  87%|████████████████████████████████████████████████▌       | 26/30 [00:05<00:00,  5.86it/s]\u001b[A\n",
      "Extracting image features:  90%|██████████████████████████████████████████████████▍     | 27/30 [00:06<00:00,  5.72it/s]\u001b[A\n",
      "Extracting image features:  93%|████████████████████████████████████████████████████▎   | 28/30 [00:06<00:00,  5.36it/s]\u001b[A\n",
      "Extracting image features:  97%|██████████████████████████████████████████████████████▏ | 29/30 [00:06<00:00,  5.64it/s]\u001b[A\n",
      "Extracting image features: 100%|████████████████████████████████████████████████████████| 30/30 [00:06<00:00,  4.57it/s]\u001b[A\n",
      "Processing batches:  75%|████████████████████████████████████████████████▊                | 3/4 [00:22<00:07,  7.67s/it]"
     ]
    },
    {
     "name": "stdout",
     "output_type": "stream",
     "text": [
      "[INFO] Saved batch to: ../../data/processed/batches/features_batch_002.npz\n",
      "[INFO] Processing batch 4 of 4 (10 images)\n"
     ]
    },
    {
     "name": "stderr",
     "output_type": "stream",
     "text": [
      "\n",
      "Extracting image features:   0%|                                                                 | 0/10 [00:00<?, ?it/s]\u001b[A\n",
      "Extracting image features:  10%|█████▋                                                   | 1/10 [00:01<00:09,  1.00s/it]\u001b[A\n",
      "Extracting image features:  20%|███████████▍                                             | 2/10 [00:01<00:03,  2.04it/s]\u001b[A\n",
      "Extracting image features:  30%|█████████████████                                        | 3/10 [00:01<00:02,  3.02it/s]\u001b[A\n",
      "Extracting image features:  40%|██████████████████████▊                                  | 4/10 [00:01<00:01,  3.53it/s]\u001b[A\n",
      "Extracting image features:  50%|████████████████████████████▌                            | 5/10 [00:01<00:01,  4.05it/s]\u001b[A\n",
      "Extracting image features:  60%|██████████████████████████████████▏                      | 6/10 [00:01<00:00,  4.06it/s]\u001b[A\n",
      "Extracting image features:  70%|███████████████████████████████████████▉                 | 7/10 [00:02<00:00,  4.68it/s]\u001b[A\n",
      "Extracting image features:  80%|█████████████████████████████████████████████▌           | 8/10 [00:02<00:00,  4.81it/s]\u001b[A\n",
      "Extracting image features:  90%|███████████████████████████████████████████████████▎     | 9/10 [00:02<00:00,  5.30it/s]\u001b[A\n",
      "Extracting image features: 100%|████████████████████████████████████████████████████████| 10/10 [00:02<00:00,  3.93it/s]\u001b[A\n",
      "Processing batches: 100%|█████████████████████████████████████████████████████████████████| 4/4 [00:26<00:00,  6.56s/it]"
     ]
    },
    {
     "name": "stdout",
     "output_type": "stream",
     "text": [
      "[INFO] Saved batch to: ../../data/processed/batches/features_batch_003.npz\n"
     ]
    },
    {
     "name": "stderr",
     "output_type": "stream",
     "text": [
      "\n"
     ]
    }
   ],
   "source": [
    "# Path to the image directory\n",
    "image_dir = \"../../data/flickr8k_images/subset/\"  # Subset of 100 images\n",
    "\n",
    "# Output directory to store partial .npz files\n",
    "output_dir = \"../../data/processed/batches\"\n",
    "\n",
    "# Set batch size (i.e., number of images to process at once)\n",
    "batch_size = 30\n",
    "\n",
    "# Process images in batches and save features as separate .npz files\n",
    "extract_features_in_batches(image_dir, batch_size, output_dir)"
   ]
  },
  {
   "cell_type": "code",
   "execution_count": 7,
   "id": "6620a053-202b-4f18-8ed3-467908cda52d",
   "metadata": {},
   "outputs": [
    {
     "name": "stderr",
     "output_type": "stream",
     "text": [
      "Combining feature batches: 100%|██████████████████████████████████████████████████████████| 4/4 [00:00<00:00, 25.49it/s]\n"
     ]
    },
    {
     "name": "stdout",
     "output_type": "stream",
     "text": [
      "Combined 100 features into '../../data/processed/flickr8k_features_batch.npz'.\n"
     ]
    }
   ],
   "source": [
    "# Output path for the combined feature file\n",
    "combined_file = \"../../data/processed/flickr8k_features_batch.npz\"\n",
    "combine_feature_batches(output_dir, combined_file)"
   ]
  },
  {
   "cell_type": "code",
   "execution_count": 8,
   "id": "e0e88146-5fb9-4c5c-9aa5-105d3b627cc2",
   "metadata": {},
   "outputs": [
    {
     "name": "stdout",
     "output_type": "stream",
     "text": [
      "Total images in feature file: 100\n",
      "\n",
      "Previewing first 5 image feature entries:\n",
      "\n",
      "1. 101654506_8eb26cfb60.jpg -> shape: (2048,)\n",
      "[0.0473685  0.         0.34836045 0.         1.9708986 ] ...\n",
      "\n",
      "2. 101669240_b2d3e7f17b.jpg -> shape: (2048,)\n",
      "[0.00277199 0.01376122 0.00498268 0.05396137 0.19276744] ...\n",
      "\n",
      "3. 102351840_323e3de834.jpg -> shape: (2048,)\n",
      "[0.00125399 0.03713456 0.07491528 0.05316498 0.70476127] ...\n",
      "\n",
      "4. 102455176_5f8ead62d5.jpg -> shape: (2048,)\n",
      "[0.13471708 0.24836668 0.27189383 0.04021228 0.9100197 ] ...\n",
      "\n",
      "5. 103106960_e8a41d64f8.jpg -> shape: (2048,)\n",
      "[0.00936221 0.10794617 0.33646026 0.24238296 0.4932172 ] ...\n",
      "\n"
     ]
    }
   ],
   "source": [
    "# Load the feature dictionary\n",
    "features = load_features(combined_file)\n",
    "\n",
    "# Print the number of entries and preview the first 5\n",
    "print(f\"Total images in feature file: {len(features)}\\n\")\n",
    "\n",
    "print(\"Previewing first 5 image feature entries:\\n\")\n",
    "for i, (img_name, feature_vector) in enumerate(features.items()):\n",
    "    print(f\"{i+1}. {img_name} -> shape: {feature_vector.shape}\")\n",
    "    print(feature_vector[:5], \"...\")  # Show first 5 elements for brevity\n",
    "    print()\n",
    "    if i == 4:\n",
    "        break"
   ]
  },
  {
   "cell_type": "code",
   "execution_count": null,
   "id": "b6b1c467-cb9c-45ce-8e5e-a62cd44b1d08",
   "metadata": {},
   "outputs": [],
   "source": []
  }
 ],
 "metadata": {
  "kernelspec": {
   "display_name": "northeastern",
   "language": "python",
   "name": "northeastern"
  },
  "language_info": {
   "codemirror_mode": {
    "name": "ipython",
    "version": 3
   },
   "file_extension": ".py",
   "mimetype": "text/x-python",
   "name": "python",
   "nbconvert_exporter": "python",
   "pygments_lexer": "ipython3",
   "version": "3.10.18"
  }
 },
 "nbformat": 4,
 "nbformat_minor": 5
}
