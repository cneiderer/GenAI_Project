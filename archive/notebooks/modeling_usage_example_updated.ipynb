{
 "cells": [
  {
   "cell_type": "markdown",
   "id": "71b963ef-b7a0-43a2-a9cd-4c86fc7a3fe5",
   "metadata": {},
   "source": [
    "# Modeling Usage Example Notebook Updated"
   ]
  },
  {
   "cell_type": "markdown",
   "id": "9cf3c2fc-a406-486d-9f7d-7a25b9b37bf5",
   "metadata": {},
   "source": [
    "## Setup Notebook"
   ]
  },
  {
   "cell_type": "code",
   "execution_count": 1,
   "id": "523c13b0-5438-4807-93e9-e50df63053d3",
   "metadata": {},
   "outputs": [],
   "source": [
    "%load_ext autoreload\n",
    "%autoreload 2"
   ]
  },
  {
   "cell_type": "code",
   "execution_count": 2,
   "id": "0c5129b7-9745-4835-8c88-961c5368e57a",
   "metadata": {},
   "outputs": [
    {
     "name": "stderr",
     "output_type": "stream",
     "text": [
      "2025-07-17 15:34:51.501031: I tensorflow/core/util/port.cc:153] oneDNN custom operations are on. You may see slightly different numerical results due to floating-point round-off errors from different computation orders. To turn them off, set the environment variable `TF_ENABLE_ONEDNN_OPTS=0`.\n",
      "2025-07-17 15:34:51.912499: E external/local_xla/xla/stream_executor/cuda/cuda_fft.cc:467] Unable to register cuFFT factory: Attempting to register factory for plugin cuFFT when one has already been registered\n",
      "WARNING: All log messages before absl::InitializeLog() is called are written to STDERR\n",
      "E0000 00:00:1752780892.002345    1861 cuda_dnn.cc:8579] Unable to register cuDNN factory: Attempting to register factory for plugin cuDNN when one has already been registered\n",
      "E0000 00:00:1752780892.028001    1861 cuda_blas.cc:1407] Unable to register cuBLAS factory: Attempting to register factory for plugin cuBLAS when one has already been registered\n",
      "W0000 00:00:1752780892.273321    1861 computation_placer.cc:177] computation placer already registered. Please check linkage and avoid linking the same target more than once.\n",
      "W0000 00:00:1752780892.273355    1861 computation_placer.cc:177] computation placer already registered. Please check linkage and avoid linking the same target more than once.\n",
      "W0000 00:00:1752780892.273357    1861 computation_placer.cc:177] computation placer already registered. Please check linkage and avoid linking the same target more than once.\n",
      "W0000 00:00:1752780892.273358    1861 computation_placer.cc:177] computation placer already registered. Please check linkage and avoid linking the same target more than once.\n",
      "2025-07-17 15:34:52.297900: I tensorflow/core/platform/cpu_feature_guard.cc:210] This TensorFlow binary is optimized to use available CPU instructions in performance-critical operations.\n",
      "To enable the following instructions: AVX2 AVX_VNNI FMA, in other operations, rebuild TensorFlow with the appropriate compiler flags.\n"
     ]
    }
   ],
   "source": [
    "import numpy as np\n",
    "import tensorflow as tf\n",
    "from tensorflow.keras.preprocessing.sequence import pad_sequences\n",
    "from tqdm import tqdm\n",
    "\n",
    "from vtt.utils.helpers import set_seed\n",
    "from vtt.data.caption_preprocessing import load_tokenizer, load_and_clean_captions\n",
    "from vtt.data.image_preprocessing import load_features\n",
    "from vtt.data.data_loader import load_split_datasets\n",
    "from vtt.models.decoder import build_decoder_model\n",
    "from vtt.models.train import train_model\n",
    "from vtt.models.predict import display_images_with_captions, generate_caption_greedy\n",
    "from vtt.visualization.history_plot import plot_training_history\n",
    "from vtt.evaluation.evaluate import evaluate_model"
   ]
  },
  {
   "cell_type": "markdown",
   "id": "5af7ca6b-9250-4880-841a-59e1aa3f1a92",
   "metadata": {},
   "source": [
    "## Set Random Seed"
   ]
  },
  {
   "cell_type": "code",
   "execution_count": 3,
   "id": "b8011eb4-9b96-4fd4-8be8-6c4c5fbeb585",
   "metadata": {},
   "outputs": [
    {
     "name": "stdout",
     "output_type": "stream",
     "text": [
      "Random seed set to 42\n"
     ]
    }
   ],
   "source": [
    "# Set the random seed for tf, np, random, etc.\n",
    "set_seed(42)"
   ]
  },
  {
   "cell_type": "markdown",
   "id": "3841e1cd-d044-4290-94ef-32c13dd6bac9",
   "metadata": {},
   "source": [
    "## Paths"
   ]
  },
  {
   "cell_type": "code",
   "execution_count": 4,
   "id": "4e0c9332-c575-4ba3-ba9e-1904b6c4b169",
   "metadata": {},
   "outputs": [],
   "source": [
    "dataset_name = \"flickr8k\"\n",
    "features_path = f\"../data/processed/{dataset_name}_features.npz\"\n",
    "captions_path = f\"../data/processed/{dataset_name}_padded_caption_sequences.npz\"\n",
    "tokenizer_path = f\"../data/processed/{dataset_name}_tokenizer.json\"\n",
    "captions_file = f\"../data/raw/{dataset_name}_captions.csv\""
   ]
  },
  {
   "cell_type": "markdown",
   "id": "d30ac81d-858d-4fc0-80fb-d8b6fbe28506",
   "metadata": {},
   "source": [
    "## Load Tokenizer and Features"
   ]
  },
  {
   "cell_type": "code",
   "execution_count": 5,
   "id": "a6908550-0722-47f0-ac7c-241cb55c2bb7",
   "metadata": {},
   "outputs": [
    {
     "name": "stdout",
     "output_type": "stream",
     "text": [
      "[INFO] Tokenizer loaded from JSON file: ../data/processed/flickr8k_tokenizer.json\n"
     ]
    }
   ],
   "source": [
    "tokenizer = load_tokenizer(tokenizer_path)\n",
    "features = np.load(features_path)"
   ]
  },
  {
   "cell_type": "markdown",
   "id": "ea293e9e-1a7a-4f87-a33c-6f8bacfbe55e",
   "metadata": {},
   "source": [
    "# Load Datasets"
   ]
  },
  {
   "cell_type": "code",
   "execution_count": 6,
   "id": "a2720a15-0ac2-4a7d-a373-5bc4bf6c7c91",
   "metadata": {},
   "outputs": [
    {
     "name": "stdout",
     "output_type": "stream",
     "text": [
      "\n",
      "--- Dataset Split Sizes (number of individual samples) ---\n",
      "Total samples loaded: 38008\n",
      "Train samples: 28507\n",
      "Validation samples: 5701\n",
      "Test samples: 3800\n",
      "----------------------------------------------------------\n",
      "\n"
     ]
    },
    {
     "name": "stderr",
     "output_type": "stream",
     "text": [
      "2025-07-17 15:35:49.475808: E external/local_xla/xla/stream_executor/cuda/cuda_platform.cc:51] failed call to cuInit: INTERNAL: CUDA error: Failed call to cuInit: UNKNOWN ERROR (303)\n"
     ]
    }
   ],
   "source": [
    "train_ds, val_ds, test_ds = load_split_datasets(\n",
    "    features_path=features_path,\n",
    "    captions_path=captions_path,\n",
    "    batch_size=64,\n",
    "    val_split=0.15,\n",
    "    test_split=0.10,\n",
    "    shuffle=True,\n",
    "    buffer_size=1000,\n",
    "    seed=42,\n",
    "    cache=True,\n",
    "    return_numpy=False\n",
    ")"
   ]
  },
  {
   "cell_type": "markdown",
   "id": "ec50a51c-7928-4a49-ae77-6ecbbde8dfbe",
   "metadata": {},
   "source": [
    "## Build Model"
   ]
  },
  {
   "cell_type": "code",
   "execution_count": 7,
   "id": "217ebd4c-cfb9-46b2-8707-a904ac917286",
   "metadata": {},
   "outputs": [
    {
     "name": "stderr",
     "output_type": "stream",
     "text": [
      "2025-07-17 15:37:41.061296: W tensorflow/core/kernels/data/cache_dataset_ops.cc:916] The calling iterator did not fully read the dataset being cached. In order to avoid unexpected truncation of the dataset, the partially cached contents of the dataset  will be discarded. This can happen if you have an input pipeline similar to `dataset.cache().take(k).repeat()`. You should use `dataset.take(k).cache().repeat()` instead.\n",
      "2025-07-17 15:37:41.062488: I tensorflow/core/framework/local_rendezvous.cc:407] Local rendezvous is aborting with status: OUT_OF_RANGE: End of sequence\n"
     ]
    },
    {
     "data": {
      "text/html": [
       "<pre style=\"white-space:pre;overflow-x:auto;line-height:normal;font-family:Menlo,'DejaVu Sans Mono',consolas,'Courier New',monospace\"><span style=\"font-weight: bold\">Model: \"ImageCaptionDecoder\"</span>\n",
       "</pre>\n"
      ],
      "text/plain": [
       "\u001b[1mModel: \"ImageCaptionDecoder\"\u001b[0m\n"
      ]
     },
     "metadata": {},
     "output_type": "display_data"
    },
    {
     "data": {
      "text/html": [
       "<pre style=\"white-space:pre;overflow-x:auto;line-height:normal;font-family:Menlo,'DejaVu Sans Mono',consolas,'Courier New',monospace\">┏━━━━━━━━━━━━━━━━━━━━━┳━━━━━━━━━━━━━━━━━━━┳━━━━━━━━━━━━┳━━━━━━━━━━━━━━━━━━━┓\n",
       "┃<span style=\"font-weight: bold\"> Layer (type)        </span>┃<span style=\"font-weight: bold\"> Output Shape      </span>┃<span style=\"font-weight: bold\">    Param # </span>┃<span style=\"font-weight: bold\"> Connected to      </span>┃\n",
       "┡━━━━━━━━━━━━━━━━━━━━━╇━━━━━━━━━━━━━━━━━━━╇━━━━━━━━━━━━╇━━━━━━━━━━━━━━━━━━━┩\n",
       "│ image_input         │ (<span style=\"color: #00d7ff; text-decoration-color: #00d7ff\">None</span>, <span style=\"color: #00af00; text-decoration-color: #00af00\">2048</span>)      │          <span style=\"color: #00af00; text-decoration-color: #00af00\">0</span> │ -                 │\n",
       "│ (<span style=\"color: #0087ff; text-decoration-color: #0087ff\">InputLayer</span>)        │                   │            │                   │\n",
       "├─────────────────────┼───────────────────┼────────────┼───────────────────┤\n",
       "│ image_dense (<span style=\"color: #0087ff; text-decoration-color: #0087ff\">Dense</span>) │ (<span style=\"color: #00d7ff; text-decoration-color: #00d7ff\">None</span>, <span style=\"color: #00af00; text-decoration-color: #00af00\">256</span>)       │    <span style=\"color: #00af00; text-decoration-color: #00af00\">524,544</span> │ image_input[<span style=\"color: #00af00; text-decoration-color: #00af00\">0</span>][<span style=\"color: #00af00; text-decoration-color: #00af00\">0</span>] │\n",
       "├─────────────────────┼───────────────────┼────────────┼───────────────────┤\n",
       "│ caption_input       │ (<span style=\"color: #00d7ff; text-decoration-color: #00d7ff\">None</span>, <span style=\"color: #00af00; text-decoration-color: #00af00\">18</span>)        │          <span style=\"color: #00af00; text-decoration-color: #00af00\">0</span> │ -                 │\n",
       "│ (<span style=\"color: #0087ff; text-decoration-color: #0087ff\">InputLayer</span>)        │                   │            │                   │\n",
       "├─────────────────────┼───────────────────┼────────────┼───────────────────┤\n",
       "│ expand_image        │ (<span style=\"color: #00d7ff; text-decoration-color: #00d7ff\">None</span>, <span style=\"color: #00af00; text-decoration-color: #00af00\">1</span>, <span style=\"color: #00af00; text-decoration-color: #00af00\">256</span>)    │          <span style=\"color: #00af00; text-decoration-color: #00af00\">0</span> │ image_dense[<span style=\"color: #00af00; text-decoration-color: #00af00\">0</span>][<span style=\"color: #00af00; text-decoration-color: #00af00\">0</span>] │\n",
       "│ (<span style=\"color: #0087ff; text-decoration-color: #0087ff\">Lambda</span>)            │                   │            │                   │\n",
       "├─────────────────────┼───────────────────┼────────────┼───────────────────┤\n",
       "│ caption_embedding   │ (<span style=\"color: #00d7ff; text-decoration-color: #00d7ff\">None</span>, <span style=\"color: #00af00; text-decoration-color: #00af00\">18</span>, <span style=\"color: #00af00; text-decoration-color: #00af00\">256</span>)   │  <span style=\"color: #00af00; text-decoration-color: #00af00\">2,560,000</span> │ caption_input[<span style=\"color: #00af00; text-decoration-color: #00af00\">0</span>]… │\n",
       "│ (<span style=\"color: #0087ff; text-decoration-color: #0087ff\">Embedding</span>)         │                   │            │                   │\n",
       "├─────────────────────┼───────────────────┼────────────┼───────────────────┤\n",
       "│ merge_image_caption │ (<span style=\"color: #00d7ff; text-decoration-color: #00d7ff\">None</span>, <span style=\"color: #00af00; text-decoration-color: #00af00\">19</span>, <span style=\"color: #00af00; text-decoration-color: #00af00\">256</span>)   │          <span style=\"color: #00af00; text-decoration-color: #00af00\">0</span> │ expand_image[<span style=\"color: #00af00; text-decoration-color: #00af00\">0</span>][<span style=\"color: #00af00; text-decoration-color: #00af00\">…</span> │\n",
       "│ (<span style=\"color: #0087ff; text-decoration-color: #0087ff\">Concatenate</span>)       │                   │            │ caption_embeddin… │\n",
       "├─────────────────────┼───────────────────┼────────────┼───────────────────┤\n",
       "│ lstm (<span style=\"color: #0087ff; text-decoration-color: #0087ff\">LSTM</span>)         │ (<span style=\"color: #00d7ff; text-decoration-color: #00d7ff\">None</span>, <span style=\"color: #00af00; text-decoration-color: #00af00\">19</span>, <span style=\"color: #00af00; text-decoration-color: #00af00\">512</span>)   │  <span style=\"color: #00af00; text-decoration-color: #00af00\">1,574,912</span> │ merge_image_capt… │\n",
       "├─────────────────────┼───────────────────┼────────────┼───────────────────┤\n",
       "│ output_dense        │ (<span style=\"color: #00d7ff; text-decoration-color: #00d7ff\">None</span>, <span style=\"color: #00af00; text-decoration-color: #00af00\">19</span>, <span style=\"color: #00af00; text-decoration-color: #00af00\">10000</span>) │  <span style=\"color: #00af00; text-decoration-color: #00af00\">5,130,000</span> │ lstm[<span style=\"color: #00af00; text-decoration-color: #00af00\">0</span>][<span style=\"color: #00af00; text-decoration-color: #00af00\">0</span>]        │\n",
       "│ (<span style=\"color: #0087ff; text-decoration-color: #0087ff\">Dense</span>)             │                   │            │                   │\n",
       "├─────────────────────┼───────────────────┼────────────┼───────────────────┤\n",
       "│ trim_image_output   │ (<span style=\"color: #00d7ff; text-decoration-color: #00d7ff\">None</span>, <span style=\"color: #00af00; text-decoration-color: #00af00\">18</span>, <span style=\"color: #00af00; text-decoration-color: #00af00\">10000</span>) │          <span style=\"color: #00af00; text-decoration-color: #00af00\">0</span> │ output_dense[<span style=\"color: #00af00; text-decoration-color: #00af00\">0</span>][<span style=\"color: #00af00; text-decoration-color: #00af00\">…</span> │\n",
       "│ (<span style=\"color: #0087ff; text-decoration-color: #0087ff\">Lambda</span>)            │                   │            │                   │\n",
       "└─────────────────────┴───────────────────┴────────────┴───────────────────┘\n",
       "</pre>\n"
      ],
      "text/plain": [
       "┏━━━━━━━━━━━━━━━━━━━━━┳━━━━━━━━━━━━━━━━━━━┳━━━━━━━━━━━━┳━━━━━━━━━━━━━━━━━━━┓\n",
       "┃\u001b[1m \u001b[0m\u001b[1mLayer (type)       \u001b[0m\u001b[1m \u001b[0m┃\u001b[1m \u001b[0m\u001b[1mOutput Shape     \u001b[0m\u001b[1m \u001b[0m┃\u001b[1m \u001b[0m\u001b[1m   Param #\u001b[0m\u001b[1m \u001b[0m┃\u001b[1m \u001b[0m\u001b[1mConnected to     \u001b[0m\u001b[1m \u001b[0m┃\n",
       "┡━━━━━━━━━━━━━━━━━━━━━╇━━━━━━━━━━━━━━━━━━━╇━━━━━━━━━━━━╇━━━━━━━━━━━━━━━━━━━┩\n",
       "│ image_input         │ (\u001b[38;5;45mNone\u001b[0m, \u001b[38;5;34m2048\u001b[0m)      │          \u001b[38;5;34m0\u001b[0m │ -                 │\n",
       "│ (\u001b[38;5;33mInputLayer\u001b[0m)        │                   │            │                   │\n",
       "├─────────────────────┼───────────────────┼────────────┼───────────────────┤\n",
       "│ image_dense (\u001b[38;5;33mDense\u001b[0m) │ (\u001b[38;5;45mNone\u001b[0m, \u001b[38;5;34m256\u001b[0m)       │    \u001b[38;5;34m524,544\u001b[0m │ image_input[\u001b[38;5;34m0\u001b[0m][\u001b[38;5;34m0\u001b[0m] │\n",
       "├─────────────────────┼───────────────────┼────────────┼───────────────────┤\n",
       "│ caption_input       │ (\u001b[38;5;45mNone\u001b[0m, \u001b[38;5;34m18\u001b[0m)        │          \u001b[38;5;34m0\u001b[0m │ -                 │\n",
       "│ (\u001b[38;5;33mInputLayer\u001b[0m)        │                   │            │                   │\n",
       "├─────────────────────┼───────────────────┼────────────┼───────────────────┤\n",
       "│ expand_image        │ (\u001b[38;5;45mNone\u001b[0m, \u001b[38;5;34m1\u001b[0m, \u001b[38;5;34m256\u001b[0m)    │          \u001b[38;5;34m0\u001b[0m │ image_dense[\u001b[38;5;34m0\u001b[0m][\u001b[38;5;34m0\u001b[0m] │\n",
       "│ (\u001b[38;5;33mLambda\u001b[0m)            │                   │            │                   │\n",
       "├─────────────────────┼───────────────────┼────────────┼───────────────────┤\n",
       "│ caption_embedding   │ (\u001b[38;5;45mNone\u001b[0m, \u001b[38;5;34m18\u001b[0m, \u001b[38;5;34m256\u001b[0m)   │  \u001b[38;5;34m2,560,000\u001b[0m │ caption_input[\u001b[38;5;34m0\u001b[0m]… │\n",
       "│ (\u001b[38;5;33mEmbedding\u001b[0m)         │                   │            │                   │\n",
       "├─────────────────────┼───────────────────┼────────────┼───────────────────┤\n",
       "│ merge_image_caption │ (\u001b[38;5;45mNone\u001b[0m, \u001b[38;5;34m19\u001b[0m, \u001b[38;5;34m256\u001b[0m)   │          \u001b[38;5;34m0\u001b[0m │ expand_image[\u001b[38;5;34m0\u001b[0m][\u001b[38;5;34m…\u001b[0m │\n",
       "│ (\u001b[38;5;33mConcatenate\u001b[0m)       │                   │            │ caption_embeddin… │\n",
       "├─────────────────────┼───────────────────┼────────────┼───────────────────┤\n",
       "│ lstm (\u001b[38;5;33mLSTM\u001b[0m)         │ (\u001b[38;5;45mNone\u001b[0m, \u001b[38;5;34m19\u001b[0m, \u001b[38;5;34m512\u001b[0m)   │  \u001b[38;5;34m1,574,912\u001b[0m │ merge_image_capt… │\n",
       "├─────────────────────┼───────────────────┼────────────┼───────────────────┤\n",
       "│ output_dense        │ (\u001b[38;5;45mNone\u001b[0m, \u001b[38;5;34m19\u001b[0m, \u001b[38;5;34m10000\u001b[0m) │  \u001b[38;5;34m5,130,000\u001b[0m │ lstm[\u001b[38;5;34m0\u001b[0m][\u001b[38;5;34m0\u001b[0m]        │\n",
       "│ (\u001b[38;5;33mDense\u001b[0m)             │                   │            │                   │\n",
       "├─────────────────────┼───────────────────┼────────────┼───────────────────┤\n",
       "│ trim_image_output   │ (\u001b[38;5;45mNone\u001b[0m, \u001b[38;5;34m18\u001b[0m, \u001b[38;5;34m10000\u001b[0m) │          \u001b[38;5;34m0\u001b[0m │ output_dense[\u001b[38;5;34m0\u001b[0m][\u001b[38;5;34m…\u001b[0m │\n",
       "│ (\u001b[38;5;33mLambda\u001b[0m)            │                   │            │                   │\n",
       "└─────────────────────┴───────────────────┴────────────┴───────────────────┘\n"
      ]
     },
     "metadata": {},
     "output_type": "display_data"
    },
    {
     "data": {
      "text/html": [
       "<pre style=\"white-space:pre;overflow-x:auto;line-height:normal;font-family:Menlo,'DejaVu Sans Mono',consolas,'Courier New',monospace\"><span style=\"font-weight: bold\"> Total params: </span><span style=\"color: #00af00; text-decoration-color: #00af00\">9,789,456</span> (37.34 MB)\n",
       "</pre>\n"
      ],
      "text/plain": [
       "\u001b[1m Total params: \u001b[0m\u001b[38;5;34m9,789,456\u001b[0m (37.34 MB)\n"
      ]
     },
     "metadata": {},
     "output_type": "display_data"
    },
    {
     "data": {
      "text/html": [
       "<pre style=\"white-space:pre;overflow-x:auto;line-height:normal;font-family:Menlo,'DejaVu Sans Mono',consolas,'Courier New',monospace\"><span style=\"font-weight: bold\"> Trainable params: </span><span style=\"color: #00af00; text-decoration-color: #00af00\">9,789,456</span> (37.34 MB)\n",
       "</pre>\n"
      ],
      "text/plain": [
       "\u001b[1m Trainable params: \u001b[0m\u001b[38;5;34m9,789,456\u001b[0m (37.34 MB)\n"
      ]
     },
     "metadata": {},
     "output_type": "display_data"
    },
    {
     "data": {
      "text/html": [
       "<pre style=\"white-space:pre;overflow-x:auto;line-height:normal;font-family:Menlo,'DejaVu Sans Mono',consolas,'Courier New',monospace\"><span style=\"font-weight: bold\"> Non-trainable params: </span><span style=\"color: #00af00; text-decoration-color: #00af00\">0</span> (0.00 B)\n",
       "</pre>\n"
      ],
      "text/plain": [
       "\u001b[1m Non-trainable params: \u001b[0m\u001b[38;5;34m0\u001b[0m (0.00 B)\n"
      ]
     },
     "metadata": {},
     "output_type": "display_data"
    }
   ],
   "source": [
    "# Get max caption length from dataset\n",
    "for (image_tensor, input_caption, _), _ in train_ds.take(1):\n",
    "    max_caption_len = input_caption.shape[1]\n",
    "# Get vocab size\n",
    "vocab_size = tokenizer.num_words\n",
    "\n",
    "model = build_decoder_model(vocab_size=vocab_size, max_caption_len=max_caption_len)\n",
    "model.summary()"
   ]
  },
  {
   "cell_type": "markdown",
   "id": "b492d710-53fe-4acb-8e00-3f825f870a4d",
   "metadata": {},
   "source": [
    "## Train Model"
   ]
  },
  {
   "cell_type": "code",
   "execution_count": 8,
   "id": "9a22904c-1a4e-47f3-8b6e-93dd6c20ab2d",
   "metadata": {},
   "outputs": [
    {
     "name": "stderr",
     "output_type": "stream",
     "text": [
      "2025-07-17 15:37:47.963182: W tensorflow/core/kernels/data/cache_dataset_ops.cc:916] The calling iterator did not fully read the dataset being cached. In order to avoid unexpected truncation of the dataset, the partially cached contents of the dataset  will be discarded. This can happen if you have an input pipeline similar to `dataset.cache().take(k).repeat()`. You should use `dataset.take(k).cache().repeat()` instead.\n"
     ]
    },
    {
     "name": "stdout",
     "output_type": "stream",
     "text": [
      "\u001b[1m445/445\u001b[0m \u001b[32m━━━━━━━━━━━━━━━━━━━━\u001b[0m\u001b[37m\u001b[0m \u001b[1m0s\u001b[0m 523ms/step - loss: 3.7264\n",
      "Epoch 1: val_loss improved from inf to 2.42168, saving model to ../models/tmp/flickr8k_decoder_weights.weights.h5\n",
      "\u001b[1m445/445\u001b[0m \u001b[32m━━━━━━━━━━━━━━━━━━━━\u001b[0m\u001b[37m\u001b[0m \u001b[1m249s\u001b[0m 556ms/step - loss: 3.7248 - val_loss: 2.4217\n",
      "Restoring model weights from the end of the best epoch: 1.\n"
     ]
    }
   ],
   "source": [
    "history = train_model(\n",
    "    dataset=train_ds,\n",
    "    model=model,\n",
    "    epochs=1,\n",
    "    val_dataset=val_ds,\n",
    "    checkpoint_path=f\"../models/tmp/{dataset_name}_decoder_weights.weights.h5\",\n",
    "    early_stop_patience=5,\n",
    ")"
   ]
  },
  {
   "cell_type": "markdown",
   "id": "7ebb961c-b32f-4075-b268-2e4bf05bfbb6",
   "metadata": {},
   "source": [
    "## Plot Training History"
   ]
  },
  {
   "cell_type": "code",
   "execution_count": 28,
   "id": "9579d08c-2eb8-4a47-9551-91f9529960c6",
   "metadata": {},
   "outputs": [
    {
     "data": {
      "image/png": "[encoded data removed]",
      "text/plain": [
       "<Figure size 800x400 with 1 Axes>"
      ]
     },
     "metadata": {},
     "output_type": "display_data"
    }
   ],
   "source": [
    "plot_training_history(history, metrics=[\"loss\"])"
   ]
  },
  {
   "cell_type": "markdown",
   "id": "75ac3bd9-3bfd-413d-95fa-a3cfaceb6ac7",
   "metadata": {},
   "source": [
    "## Save Model"
   ]
  },
  {
   "cell_type": "code",
   "execution_count": 10,
   "id": "1bc2aea9-b047-476b-806b-5e0bc0a3a5ac",
   "metadata": {},
   "outputs": [],
   "source": [
    "model.save(f\"../models/tmp/{dataset_name}_decoder_model.keras\")"
   ]
  },
  {
   "cell_type": "markdown",
   "id": "94d7898b-89be-40ce-b732-ab64fd8fb748",
   "metadata": {},
   "source": [
    "## Save Split Datasets"
   ]
  },
  {
   "cell_type": "raw",
   "id": "425e9987-fd40-42e6-a0b2-362220eb9cd9",
   "metadata": {},
   "source": [
    "tf.data.Dataset.save(test_ds, \"<save_path>\")"
   ]
  },
  {
   "cell_type": "markdown",
   "id": "1f876e47-71dd-4481-92c6-b4bac6c00b1d",
   "metadata": {},
   "source": [
    "## Evaluate Model on Test Set"
   ]
  },
  {
   "cell_type": "markdown",
   "id": "2baccd28-d4fd-4b5a-b4a7-e237449caba7",
   "metadata": {},
   "source": [
    "Note: This logic should probably be separated into a different notebook for model evaluation, where where the model, tokenizer, image_features, test_ds, etc. are loaded. It's here because it was convenient for debugging purposes with changes spanning multiple modules."
   ]
  },
  {
   "cell_type": "markdown",
   "id": "ddd158f0-eb54-4b01-80d7-6c59f3c38304",
   "metadata": {},
   "source": [
    "### This evaluates the entire test dataset"
   ]
  },
  {
   "cell_type": "raw",
   "id": "04980a46-40fb-43f5-b14d-9be02895af83",
   "metadata": {
    "scrolled": true
   },
   "source": [
    "# Rebatch test dataset into larger or smaller batches, depending on your system memory\n",
    "# larger batches for faster inference (as long as you have enough memory)\n",
    "new_batch_size = 128\n",
    "batched_test_ds_for_eval = test_ds.unbatch().batch(new_batch_size).prefetch(tf.data.AUTOTUNE)\n",
    "\n",
    "# Load captions into references dict\n",
    "references_dict = load_and_clean_captions(f\"../data/raw/{dataset_name}_captions.csv\")\n",
    "\n",
    "scores = evaluate_model(\n",
    "    model=model,\n",
    "    tokenizer=tokenizer,\n",
    "    features=features,\n",
    "    test_dataset=test_ds,\n",
    "    references_dict=references_dict,\n",
    "    max_len=max_caption_len,\n",
    ")\n",
    "\n",
    "print(\"Evaluation Scores:\")\n",
    "for metric, score in scores.items():\n",
    "    print(f\"{metric}: {score:.4f}\")"
   ]
  },
  {
   "cell_type": "markdown",
   "id": "a3c671c0-2f56-4eb5-8dd4-4b110c541420",
   "metadata": {},
   "source": [
    "### This evaluates a small portion of the test dataset"
   ]
  },
  {
   "cell_type": "code",
   "execution_count": 15,
   "id": "c791a894-35d6-4674-a0b5-6d5289dee5d3",
   "metadata": {},
   "outputs": [
    {
     "name": "stdout",
     "output_type": "stream",
     "text": [
      "\n",
      "Evaluating on a partial test set: 1 batches (approx. 32 samples)\n",
      "Note: Dataset size is unknown. Progress bar will not show total batches.\n"
     ]
    },
    {
     "name": "stderr",
     "output_type": "stream",
     "text": [
      "Generating Captions from Dataset: 0it [00:00, ?it/s]2025-07-17 15:56:08.084448: W tensorflow/core/kernels/data/cache_dataset_ops.cc:916] The calling iterator did not fully read the dataset being cached. In order to avoid unexpected truncation of the dataset, the partially cached contents of the dataset  will be discarded. This can happen if you have an input pipeline similar to `dataset.cache().take(k).repeat()`. You should use `dataset.take(k).cache().repeat()` instead.\n",
      "Generating Captions from Dataset: 1it [00:31, 31.28s/it]2025-07-17 15:56:39.317270: I tensorflow/core/framework/local_rendezvous.cc:407] Local rendezvous is aborting with status: OUT_OF_RANGE: End of sequence\n",
      "Generating Captions from Dataset: 1it [00:31, 31.29s/it]\n",
      "/home/curtis/anaconda3/envs/northeastern/lib/python3.10/site-packages/huggingface_hub/file_download.py:943: FutureWarning: `resume_download` is deprecated and will be removed in version 1.0.0. Downloads always resume when possible. If you want to force a new download, use `force_download=True`.\n",
      "  warnings.warn(\n",
      "Some weights of RobertaModel were not initialized from the model checkpoint at roberta-large and are newly initialized: ['roberta.pooler.dense.bias', 'roberta.pooler.dense.weight']\n",
      "You should probably TRAIN this model on a down-stream task to be able to use it for predictions and inference.\n"
     ]
    },
    {
     "name": "stdout",
     "output_type": "stream",
     "text": [
      "Evaluation Scores:\n",
      "BLEU-1: 0.4295\n",
      "BLEU-2: 0.2338\n",
      "BLEU-3: 0.1195\n",
      "BLEU-4: 0.0715\n",
      "METEOR: 0.2799\n",
      "BERTScore_P: 0.8568\n",
      "BERTScore_R: 0.8492\n",
      "BERTScore_F1: 0.8529\n"
     ]
    }
   ],
   "source": [
    "# Rebatch test dataset into larger or smaller batches, depending on your system memory\n",
    "# larger batches for faster inference (as long as you have enough memory)\n",
    "new_batch_size = 32\n",
    "batched_test_ds_for_eval = test_ds.unbatch().batch(new_batch_size).prefetch(tf.data.AUTOTUNE)\n",
    "\n",
    "# Load captions into references dict\n",
    "references_dict = load_and_clean_captions(f\"../data/raw/{dataset_name}_captions.csv\")\n",
    "\n",
    "# Evaluate only a portion of the test dataset\n",
    "num_batches_to_evaluate = 1\n",
    "partial_test_ds_for_eval = batched_test_ds_for_eval.take(num_batches_to_evaluate)\n",
    "print(f\"\\nEvaluating on a partial test set: {num_batches_to_evaluate} batches\",\n",
    "      f\"(approx. {num_batches_to_evaluate * new_batch_size} samples)\"\n",
    ")\n",
    "\n",
    "scores = evaluate_model(\n",
    "    model=model,\n",
    "    tokenizer=tokenizer,\n",
    "    features=features,\n",
    "    test_dataset=partial_test_ds_for_eval,\n",
    "    references_dict=references_dict,\n",
    "    max_len=max_caption_len,\n",
    ")\n",
    "\n",
    "print(\"Evaluation Scores:\")\n",
    "for metric, score in scores.items():\n",
    "    print(f\"{metric}: {score:.4f}\")"
   ]
  },
  {
   "cell_type": "markdown",
   "id": "f405772b-86b6-4128-a100-fc4b08db2021",
   "metadata": {},
   "source": [
    "## Predict Sample Captions"
   ]
  },
  {
   "cell_type": "code",
   "execution_count": null,
   "id": "c6887c71-d2aa-4008-9fc0-87544cc6d70d",
   "metadata": {},
   "outputs": [],
   "source": [
    "image_folder = f\"../../data/flickr8k_images/\"\n",
    "sample_image_ids = [\n",
    "    \"667626_18933d713e.jpg\",\n",
    "    \"23445819_3a458716c1.jpg\",\n",
    "    \"27782020_4dab210360.jpg\",\n",
    "    \"35506150_cbdb630f4f.jpg\",\n",
    "    \"47870024_73a4481f7d.jpg\"\n",
    "]\n",
    "\n",
    "display_images_with_captions(\n",
    "    image_ids=sample_image_ids,\n",
    "    model=model,\n",
    "    tokenizer=tokenizer,\n",
    "    features=features,\n",
    "    image_folder=image_folder\n",
    ")"
   ]
  },
  {
   "cell_type": "code",
   "execution_count": null,
   "id": "acab7d98-631f-470e-8be7-71ca62e7d6bb",
   "metadata": {},
   "outputs": [],
   "source": []
  }
 ],
 "metadata": {
  "kernelspec": {
   "display_name": "northeastern",
   "language": "python",
   "name": "northeastern"
  },
  "language_info": {
   "codemirror_mode": {
    "name": "ipython",
    "version": 3
   },
   "file_extension": ".py",
   "mimetype": "text/x-python",
   "name": "python",
   "nbconvert_exporter": "python",
   "pygments_lexer": "ipython3",
   "version": "3.10.18"
  }
 },
 "nbformat": 4,
 "nbformat_minor": 5
}
