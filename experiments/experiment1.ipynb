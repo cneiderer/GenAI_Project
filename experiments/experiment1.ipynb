{
 "cells": [
  {
   "cell_type": "markdown",
   "id": "a7130009-b92e-4740-9b24-9b53a0aa8f1a",
   "metadata": {},
   "source": [
    "# Experiment 1: Baseline Training and Evaluation\n",
    "\n",
    "__Objective:__ Train CNN-LSTM model on Flickr8k and evaluate using automatic metrics (BLEU, METEOR, etc.)\n",
    "\n",
    "__Research Question:__ How accurately do image captioning models preserve the semantic content of an input image?"
   ]
  }
 ],
 "metadata": {
  "kernelspec": {
   "display_name": "northeastern",
   "language": "python",
   "name": "northeastern"
  },
  "language_info": {
   "codemirror_mode": {
    "name": "ipython",
    "version": 3
   },
   "file_extension": ".py",
   "mimetype": "text/x-python",
   "name": "python",
   "nbconvert_exporter": "python",
   "pygments_lexer": "ipython3",
   "version": "3.10.18"
  }
 },
 "nbformat": 4,
 "nbformat_minor": 5
}
